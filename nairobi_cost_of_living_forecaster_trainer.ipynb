{
 "cells": [
  {
   "cell_type": "code",
   "execution_count": 1,
   "id": "3733aa89-3780-41e9-88d7-a12270271d1c",
   "metadata": {},
   "outputs": [
    {
     "name": "stdout",
     "output_type": "stream",
     "text": [
      "         Date        Area   Rent   Food  Transport  Utilities   Misc   Total\n",
      "0  2019-01-31   Westlands  90341  25454      15634       6142  13468  151039\n",
      "1  2019-01-31   Westlands  93902  24808      17194       6803  13608  156315\n",
      "2  2019-01-31  Kileleshwa  78160  23302      13104       6454  12959  133979\n",
      "3  2019-01-31   Westlands  87721  29735      18420       7934  14908  158719\n",
      "4  2019-01-31       Ngong  32881  13471      10989       3062   8450   68853\n"
     ]
    }
   ],
   "source": [
    "# pip install pandas numpy scikit-learn joblib fastapi uvicorn xgboost\n",
    "import pandas as pd\n",
    "from sklearn.model_selection import train_test_split\n",
    "import xgboost as xgb\n",
    "from sklearn.metrics import mean_absolute_error, mean_squared_error, r2_score\n",
    "import joblib\n",
    "\n",
    "# Load the dataset\n",
    "df = pd.read_csv(\"nairobi_cost_of_living.csv\")\n",
    "\n",
    "# Print some of the records\n",
    "print(df.head())"
   ]
  },
  {
   "cell_type": "code",
   "execution_count": 2,
   "id": "93475709-6a84-45b0-b82e-d5d87883915b",
   "metadata": {},
   "outputs": [
    {
     "name": "stdout",
     "output_type": "stream",
     "text": [
      "(12000, 5)\n",
      "           Rent          Food     Transport    Utilities          Misc\n",
      "0  25976.716797  14913.912109   6643.485840  3323.874512   6027.980469\n",
      "1  27603.443359  13456.106445   6212.402832  3657.362061   6162.377441\n",
      "2  27821.339844  13822.772461   6201.808594  3735.425049   6153.890137\n",
      "3  57160.945312  19093.380859  10886.983398  5373.492188  10133.825195\n",
      "4  57160.945312  19093.380859  10886.983398  5373.492188  10133.825195\n"
     ]
    }
   ],
   "source": [
    "# Convert date column to datetime\n",
    "df[\"Date\"] = pd.to_datetime(df[\"Date\"])\n",
    "\n",
    "df[\"Year\"] = df[\"Date\"].dt.year\n",
    "df[\"Month\"] = df[\"Date\"].dt.month\n",
    "\n",
    "# Select features (X) and target variables (y)\n",
    "X = df[[\"Year\", \"Month\", \"Area\"]]\n",
    "y = df[[\"Rent\", \"Food\", \"Transport\", \"Utilities\", \"Misc\"]]\n",
    "\n",
    "#One-hot encoding the \"Area\" column\n",
    "X = pd.get_dummies(X, columns=[\"Area\"], drop_first=True)\n",
    "\n",
    "# Split the data into train/test\n",
    "X_train, X_test, y_train, y_test = train_test_split(X, y, test_size=0.2, random_state=42)\n",
    "\n",
    "# Train the model\n",
    "model = xgb.XGBRegressor(n_estimators=500, learning_rate=0.05, max_depth=10, random_state=42)\n",
    "model.fit(X_train, y_train)\n",
    "\n",
    "joblib.dump(model, \"models/cost_of_living_forecaster.pkl\")\n",
    "\n",
    "# Make predictions\n",
    "y_pred = model.predict(X_test)\n",
    "\n",
    "print(y_pred.shape)\n",
    "\n",
    "y_pred_df = pd.DataFrame(y_pred, columns=y.columns)\n",
    "print(y_pred_df.head())\n"
   ]
  },
  {
   "cell_type": "code",
   "execution_count": 3,
   "id": "d004dd82-7297-42dc-96b0-c6fd7f6f79cf",
   "metadata": {},
   "outputs": [
    {
     "name": "stdout",
     "output_type": "stream",
     "text": [
      "Mean Absolute Error: 1423.56\n",
      "Mean Squared Error: 3033146.50\n",
      "R2 Score: 0.83\n"
     ]
    }
   ],
   "source": [
    "# Evaluation\n",
    "# Mean Absolute Error (MAE)\n",
    "mae = mean_absolute_error(y_test, y_pred)\n",
    "print(f\"Mean Absolute Error: {mae:.2f}\")\n",
    "\n",
    "# Mean Squared Error (MSE)\n",
    "mse = mean_squared_error(y_test, y_pred)\n",
    "print(f\"Mean Squared Error: {mse:.2f}\")\n",
    "\n",
    "# R^2 Score (Coefficient of Determination)\n",
    "r2 = r2_score(y_test, y_pred)\n",
    "print(f\"R2 Score: {r2:.2f}\")"
   ]
  },
  {
   "cell_type": "code",
   "execution_count": null,
   "id": "3190cc72-8aae-4f5a-8de6-375ee77fbe0f",
   "metadata": {},
   "outputs": [],
   "source": []
  }
 ],
 "metadata": {
  "kernelspec": {
   "display_name": "Python 3 (ipykernel)",
   "language": "python",
   "name": "python3"
  },
  "language_info": {
   "codemirror_mode": {
    "name": "ipython",
    "version": 3
   },
   "file_extension": ".py",
   "mimetype": "text/x-python",
   "name": "python",
   "nbconvert_exporter": "python",
   "pygments_lexer": "ipython3",
   "version": "3.10.0"
  }
 },
 "nbformat": 4,
 "nbformat_minor": 5
}
